{
 "cells": [
  {
   "cell_type": "markdown",
   "metadata": {},
   "source": [
    "## The dataset is available at https://www.kaggle.com/saurograndi/airplane-crashes-since-1908"
   ]
  },
  {
   "cell_type": "code",
   "execution_count": 1,
   "metadata": {
    "collapsed": true
   },
   "outputs": [],
   "source": [
    "setwd('F:/Aircraft accident analysis/Aircrash')"
   ]
  },
  {
   "cell_type": "code",
   "execution_count": 2,
   "metadata": {
    "collapsed": true
   },
   "outputs": [],
   "source": [
    "aircrash <- read.csv('3-Airplane_Crashes_Since_1908.txt',stringsAsFactors = FALSE)"
   ]
  },
  {
   "cell_type": "code",
   "execution_count": 3,
   "metadata": {
    "collapsed": false
   },
   "outputs": [
    {
     "name": "stdout",
     "output_type": "stream",
     "text": [
      "'data.frame':\t5268 obs. of  13 variables:\n",
      " $ Date        : chr  \"09/17/1908\" \"07/12/1912\" \"08/06/1913\" \"09/09/1913\" ...\n",
      " $ Time        : chr  \"17:18\" \"06:30\" \"\" \"18:30\" ...\n",
      " $ Location    : chr  \"Fort Myer, Virginia\" \"AtlantiCity, New Jersey\" \"Victoria, British Columbia, Canada\" \"Over the North Sea\" ...\n",
      " $ Operator    : chr  \"Military - U.S. Army\" \"Military - U.S. Navy\" \"Private\" \"Military - German Navy\" ...\n",
      " $ Flight..    : chr  \"\" \"\" \"-\" \"\" ...\n",
      " $ Route       : chr  \"Demonstration\" \"Test flight\" \"\" \"\" ...\n",
      " $ Type        : chr  \"Wright Flyer III\" \"Dirigible\" \"Curtiss seaplane\" \"Zeppelin L-1 (airship)\" ...\n",
      " $ Registration: chr  \"\" \"\" \"\" \"\" ...\n",
      " $ cn.In       : chr  \"1\" \"\" \"\" \"\" ...\n",
      " $ Aboard      : int  2 5 1 20 30 41 19 20 22 19 ...\n",
      " $ Fatalities  : int  1 5 1 14 30 21 19 20 22 19 ...\n",
      " $ Ground      : int  0 0 0 0 0 0 0 0 0 0 ...\n",
      " $ Summary     : chr  \"During a demonstration flight, a U.S. Army flyer flown by Orville Wright nose-dived into the ground from a height of approximat\"| __truncated__ \"First U.S. dirigible Akron exploded just offshore at an altitude of 1,000 ft. during a test flight.\" \"The first fatal airplane accident in Canada occurred when American barnstormer, John M. Bryant, California aviator was killed.\" \"The airship flew into a thunderstorm and encountered a severe downdraft crashing 20 miles north of Helgoland Island into the se\"| __truncated__ ...\n"
     ]
    }
   ],
   "source": [
    "str(aircrash)"
   ]
  },
  {
   "cell_type": "code",
   "execution_count": 4,
   "metadata": {
    "collapsed": false
   },
   "outputs": [
    {
     "name": "stderr",
     "output_type": "stream",
     "text": [
      "\n",
      "Attaching package: 'dplyr'\n",
      "\n",
      "The following objects are masked from 'package:stats':\n",
      "\n",
      "    filter, lag\n",
      "\n",
      "The following objects are masked from 'package:base':\n",
      "\n",
      "    intersect, setdiff, setequal, union\n",
      "\n"
     ]
    }
   ],
   "source": [
    "library(dplyr)\n",
    "library(tidyr)"
   ]
  },
  {
   "cell_type": "code",
   "execution_count": 5,
   "metadata": {
    "collapsed": true
   },
   "outputs": [],
   "source": [
    "aircrash2 <- separate(aircrash, Date, c(\"Month\", \"Day\", \"Year\"), sep = \"/\")"
   ]
  },
  {
   "cell_type": "code",
   "execution_count": 6,
   "metadata": {
    "collapsed": false
   },
   "outputs": [
    {
     "name": "stdout",
     "output_type": "stream",
     "text": [
      "'data.frame':\t5268 obs. of  15 variables:\n",
      " $ Month       : chr  \"09\" \"07\" \"08\" \"09\" ...\n",
      " $ Day         : chr  \"17\" \"12\" \"06\" \"09\" ...\n",
      " $ Year        : chr  \"1908\" \"1912\" \"1913\" \"1913\" ...\n",
      " $ Time        : chr  \"17:18\" \"06:30\" \"\" \"18:30\" ...\n",
      " $ Location    : chr  \"Fort Myer, Virginia\" \"AtlantiCity, New Jersey\" \"Victoria, British Columbia, Canada\" \"Over the North Sea\" ...\n",
      " $ Operator    : chr  \"Military - U.S. Army\" \"Military - U.S. Navy\" \"Private\" \"Military - German Navy\" ...\n",
      " $ Flight..    : chr  \"\" \"\" \"-\" \"\" ...\n",
      " $ Route       : chr  \"Demonstration\" \"Test flight\" \"\" \"\" ...\n",
      " $ Type        : chr  \"Wright Flyer III\" \"Dirigible\" \"Curtiss seaplane\" \"Zeppelin L-1 (airship)\" ...\n",
      " $ Registration: chr  \"\" \"\" \"\" \"\" ...\n",
      " $ cn.In       : chr  \"1\" \"\" \"\" \"\" ...\n",
      " $ Aboard      : int  2 5 1 20 30 41 19 20 22 19 ...\n",
      " $ Fatalities  : int  1 5 1 14 30 21 19 20 22 19 ...\n",
      " $ Ground      : int  0 0 0 0 0 0 0 0 0 0 ...\n",
      " $ Summary     : chr  \"During a demonstration flight, a U.S. Army flyer flown by Orville Wright nose-dived into the ground from a height of approximat\"| __truncated__ \"First U.S. dirigible Akron exploded just offshore at an altitude of 1,000 ft. during a test flight.\" \"The first fatal airplane accident in Canada occurred when American barnstormer, John M. Bryant, California aviator was killed.\" \"The airship flew into a thunderstorm and encountered a severe downdraft crashing 20 miles north of Helgoland Island into the se\"| __truncated__ ...\n"
     ]
    }
   ],
   "source": [
    "str(aircrash2)"
   ]
  },
  {
   "cell_type": "code",
   "execution_count": 7,
   "metadata": {
    "collapsed": true
   },
   "outputs": [],
   "source": [
    "crashesByYear <- as.data.frame(table(aircrash2$Year))"
   ]
  },
  {
   "cell_type": "code",
   "execution_count": 8,
   "metadata": {
    "collapsed": true
   },
   "outputs": [],
   "source": [
    "colnames(crashesByYear) <- c('Year', 'NoOfCrashes')"
   ]
  },
  {
   "cell_type": "code",
   "execution_count": 9,
   "metadata": {
    "collapsed": true
   },
   "outputs": [],
   "source": [
    "write.csv(crashesByYear, \"crashesByYear.csv\", row.names=FALSE)"
   ]
  },
  {
   "cell_type": "code",
   "execution_count": 10,
   "metadata": {
    "collapsed": true
   },
   "outputs": [],
   "source": [
    "peopleOnBoard <- as.data.frame(aircrash2 %>% group_by(Year) %>% summarise(peopleOnBoard = sum(Aboard)))\n",
    "FatalitiesByYear <- as.data.frame(aircrash2 %>% group_by(Year) %>% summarise(FatalitiesByYear = sum(Fatalities)))\n",
    "survived <- peopleOnBoard$peopleOnBoard - FatalitiesByYear$FatalitiesByYear\n",
    "survivedByYear <- as.data.frame(cbind(FatalitiesByYear$Year, survived))\n",
    "colnames(survivedByYear) <- c('Year', 'Survived')\n",
    "write.csv(peopleOnBoard, \"peopleOnBoard.csv\", row.names=FALSE)\n",
    "write.csv(FatalitiesByYear, 'FatalitiesByYear.csv', row.names=FALSE)\n",
    "write.csv(survivedByYear, 'survivedByYear.csv', row.names=FALSE)\n"
   ]
  },
  {
   "cell_type": "code",
   "execution_count": 11,
   "metadata": {
    "collapsed": false
   },
   "outputs": [
    {
     "name": "stderr",
     "output_type": "stream",
     "text": [
      "Warning message:\n",
      "\"package 'ggplot2' was built under R version 3.3.2\""
     ]
    }
   ],
   "source": [
    "library(ggplot2)"
   ]
  },
  {
   "cell_type": "code",
   "execution_count": 12,
   "metadata": {
    "collapsed": false
   },
   "outputs": [
    {
     "name": "stderr",
     "output_type": "stream",
     "text": [
      "`stat_bin()` using `bins = 30`. Pick better value with `binwidth`.\n"
     ]
    },
    {
     "data": {},
     "metadata": {},
     "output_type": "display_data"
    },
    {
     "data": {
      "image/png": "[encoded data removed]",
      "text/plain": [
       "plot without title"
      ]
     },
     "metadata": {},
     "output_type": "display_data"
    }
   ],
   "source": [
    "qplot(as.numeric(Year), data = aircrash2) +geom_histogram(stat = \"bin\", binwidth=5)"
   ]
  },
  {
   "cell_type": "code",
   "execution_count": 13,
   "metadata": {
    "collapsed": false
   },
   "outputs": [
    {
     "name": "stderr",
     "output_type": "stream",
     "text": [
      "Warning message:\n",
      "\"Removed 16 rows containing missing values (geom_point).\""
     ]
    },
    {
     "data": {},
     "metadata": {},
     "output_type": "display_data"
    },
    {
     "data": {
      "image/png": "[encoded data removed]",
      "text/plain": [
       "plot without title"
      ]
     },
     "metadata": {},
     "output_type": "display_data"
    }
   ],
   "source": [
    "qplot(x = as.numeric(Year),y = peopleOnBoard, data = peopleOnBoard) + labs(title = 'PeopleOnBoard')"
   ]
  },
  {
   "cell_type": "code",
   "execution_count": 14,
   "metadata": {
    "collapsed": false
   },
   "outputs": [
    {
     "name": "stderr",
     "output_type": "stream",
     "text": [
      "Warning message:\n",
      "\"Removed 9 rows containing missing values (geom_point).\""
     ]
    },
    {
     "data": {},
     "metadata": {},
     "output_type": "display_data"
    },
    {
     "data": {
      "image/png": "[encoded data removed]",
      "text/plain": [
       "plot without title"
      ]
     },
     "metadata": {},
     "output_type": "display_data"
    }
   ],
   "source": [
    "qplot(x = as.numeric(Year),y = FatalitiesByYear, data = FatalitiesByYear) + labs(title = 'FatalitiesByYear')"
   ]
  },
  {
   "cell_type": "code",
   "execution_count": 15,
   "metadata": {
    "collapsed": false
   },
   "outputs": [
    {
     "name": "stderr",
     "output_type": "stream",
     "text": [
      "Warning message:\n",
      "\"Removed 16 rows containing missing values (geom_point).\""
     ]
    },
    {
     "data": {},
     "metadata": {},
     "output_type": "display_data"
    },
    {
     "data": {
      "image/png": "[encoded data removed]",
      "text/plain": [
       "plot without title"
      ]
     },
     "metadata": {},
     "output_type": "display_data"
    }
   ],
   "source": [
    "qplot(x = as.numeric(Year),y = survived, data = survivedByYear) + labs(title = 'Survived By Year')"
   ]
  },
  {
   "cell_type": "markdown",
   "metadata": {},
   "source": [
    "#### It seems there is an increase trend in air crashes till 1975. Similarly for others like people onboard and fatalities by year can be plotted. But it seems, it does not show any trend through which we can make further analysis except that they increase till 1975 and then decrease. But it could be construed that since people onboard is increasing initially and then decreasing. But there is a clear indication in survival trend.  Till 1925, there has been almost zero survival. But there after there is an increase in number of survival though there is a decrease trend towards the end. We may have to analyze survival rate per year analysis to find out more information.\n",
    "Let us run this R code.\n"
   ]
  },
  {
   "cell_type": "code",
   "execution_count": 16,
   "metadata": {
    "collapsed": false
   },
   "outputs": [
    {
     "name": "stdout",
     "output_type": "stream",
     "text": [
      " num [1:98] 0.5 1 0.882 0.667 0.991 ...\n"
     ]
    }
   ],
   "source": [
    "failureRate = FatalitiesByYear$FatalitiesByYear/peopleOnBoard$peopleOnBoard\n",
    "str(failureRate)"
   ]
  },
  {
   "cell_type": "code",
   "execution_count": 17,
   "metadata": {
    "collapsed": false
   },
   "outputs": [
    {
     "name": "stderr",
     "output_type": "stream",
     "text": [
      "Warning message:\n",
      "\"Removed 16 rows containing missing values (geom_point).\""
     ]
    },
    {
     "data": {},
     "metadata": {},
     "output_type": "display_data"
    },
    {
     "data": {
      "image/png": "[encoded data removed]",
      "text/plain": [
       "plot without title"
      ]
     },
     "metadata": {},
     "output_type": "display_data"
    }
   ],
   "source": [
    "FatalitiesByYear$failureRate = failureRate\n",
    "qplot(x = as.numeric(Year),y = failureRate, data = FatalitiesByYear) + labs(title = 'FailureRate')"
   ]
  },
  {
   "cell_type": "markdown",
   "metadata": {},
   "source": [
    "#### Though the failure rate shows a decreasing trend, it does not give more information beyond except this. We may have to look at the Fatalities as proportion of people on Board to explore more as well. Let us run this code."
   ]
  },
  {
   "cell_type": "code",
   "execution_count": 18,
   "metadata": {
    "collapsed": false
   },
   "outputs": [
    {
     "data": {
      "image/png": "[encoded data removed]",
      "text/plain": [
       "plot without title"
      ]
     },
     "metadata": {},
     "output_type": "display_data"
    }
   ],
   "source": [
    "prop <- aircrash2$Fatalities/aircrash2$Aboard\n",
    "plot(as.Date(aircrash$Date,\"%m/%d/%Y\") , prop)"
   ]
  },
  {
   "cell_type": "markdown",
   "metadata": {},
   "source": [
    "#### The plot is saved as ‘Fatalities as a propotion of peopleonBoard’.  Though it does not show any trend, it can be concluded that most of the times Fatalities is equal to people on board. This can again be verified from this."
   ]
  },
  {
   "cell_type": "code",
   "execution_count": 19,
   "metadata": {
    "collapsed": false
   },
   "outputs": [
    {
     "data": {
      "text/plain": [
       "checkFatality\n",
       "FALSE  TRUE \n",
       " 1732  3514 "
      ]
     },
     "metadata": {},
     "output_type": "display_data"
    }
   ],
   "source": [
    "checkFatality = aircrash2$Aboard == aircrash2$Fatalities\n",
    "table(checkFatality)"
   ]
  },
  {
   "cell_type": "markdown",
   "metadata": {},
   "source": [
    "#### It can be shown that there is an almost 65-70% probability that all the people on board will die, if there is an accident."
   ]
  },
  {
   "cell_type": "code",
   "execution_count": 20,
   "metadata": {
    "collapsed": false
   },
   "outputs": [
    {
     "name": "stdout",
     "output_type": "stream",
     "text": [
      "'data.frame':\t2477 obs. of  2 variables:\n",
      " $ Var1: Factor w/ 2477 levels \"\",\"A B Aerotransport\",..: 1 2 3 4 5 6 7 8 9 10 ...\n",
      " $ Freq: int  18 2 1 1 3 3 1 1 1 1 ...\n"
     ]
    }
   ],
   "source": [
    "crashesByOperator <- as.data.frame(table(aircrash2$Operator) )\n",
    "str(crashesByOperator)"
   ]
  },
  {
   "cell_type": "code",
   "execution_count": 21,
   "metadata": {
    "collapsed": false
   },
   "outputs": [
    {
     "name": "stdout",
     "output_type": "stream",
     "text": [
      "'data.frame':\t2447 obs. of  2 variables:\n",
      " $ Var1: Factor w/ 2447 levels \"\",\"AÃ©rospatiale SE-210 Caravelle\",..: 1 2 3 4 5 6 7 8 9 10 ...\n",
      " $ Freq: int  27 1 1 1 1 1 1 1 1 1 ...\n"
     ]
    }
   ],
   "source": [
    "crashesByTypeofAircraft <- as.data.frame(table(aircrash2$Type))\n",
    "str(crashesByTypeofAircraft)"
   ]
  },
  {
   "cell_type": "markdown",
   "metadata": {},
   "source": [
    "#### From the data it is observed that there could be duplicates since the same names are spelled differently(there are spaces in between parts of the names) at different places for operator. We may have to bring it to one form to summarize on them. Let us define a function to remove spaces in names and apply it on all the rows of Operator . Let us make a copy of aircrash2."
   ]
  },
  {
   "cell_type": "code",
   "execution_count": 22,
   "metadata": {
    "collapsed": true
   },
   "outputs": [],
   "source": [
    "aircrash2copy <- aircrash2\n",
    "xyz <- function (x) { gsub(' ', '', x)}\n",
    "for (i in 1:nrow(aircrash2)) {\n",
    "    aircrash2copy$Operator[i] = xyz(aircrash2copy$Operator[i])\n",
    "}\n"
   ]
  },
  {
   "cell_type": "markdown",
   "metadata": {},
   "source": [
    "#### Let us run the previous codes again for aircrash2copy."
   ]
  },
  {
   "cell_type": "code",
   "execution_count": 23,
   "metadata": {
    "collapsed": false
   },
   "outputs": [
    {
     "name": "stdout",
     "output_type": "stream",
     "text": [
      "'data.frame':\t2464 obs. of  2 variables:\n",
      " $ Var1: Factor w/ 2464 levels \"\",\"AÃ©reoRutaMaya\",..: 1 2 3 4 5 6 7 8 9 10 ...\n",
      " $ Freq: int  18 1 1 3 1 5 1 1 1 3 ...\n"
     ]
    }
   ],
   "source": [
    "crashesByOperator <- as.data.frame(table(aircrash2copy$Operator))\n",
    "str(crashesByOperator)"
   ]
  },
  {
   "cell_type": "markdown",
   "metadata": {},
   "source": [
    "#### Now we can find maximum no of accidents by operator and type by running the following commands."
   ]
  },
  {
   "cell_type": "code",
   "execution_count": 24,
   "metadata": {
    "collapsed": false
   },
   "outputs": [
    {
     "data": {
      "text/html": [
       "Aeroflot"
      ],
      "text/latex": [
       "Aeroflot"
      ],
      "text/markdown": [
       "Aeroflot"
      ],
      "text/plain": [
       "[1] Aeroflot\n",
       "2464 Levels:  AÃ©reoRutaMaya AÃ©rotaxiCachanilla ... ZenNippon"
      ]
     },
     "metadata": {},
     "output_type": "display_data"
    }
   ],
   "source": [
    "crashesByOperator$Var1[which(crashesByOperator$Freq == max(crashesByOperator$Freq))]"
   ]
  },
  {
   "cell_type": "code",
   "execution_count": 25,
   "metadata": {
    "collapsed": false
   },
   "outputs": [
    {
     "data": {
      "text/html": [
       "Douglas DC-3"
      ],
      "text/latex": [
       "Douglas DC-3"
      ],
      "text/markdown": [
       "Douglas DC-3"
      ],
      "text/plain": [
       "[1] Douglas DC-3\n",
       "2447 Levels:  ... Zeppelin LZ-129"
      ]
     },
     "metadata": {},
     "output_type": "display_data"
    }
   ],
   "source": [
    "crashesByTypeofAircraft$Var1[which(crashesByTypeofAircraft$Freq == max(crashesByTypeofAircraft$Freq))]"
   ]
  },
  {
   "cell_type": "markdown",
   "metadata": {},
   "source": [
    "#### Hence Aeroflot operator has the maximum number of aircrashes and Douglas DC-3 is type of Aircraft which has maximum number of crashes."
   ]
  },
  {
   "cell_type": "markdown",
   "metadata": {},
   "source": [
    "#### We will have to do text mining for this. But before we proceed for this we will make some modification to data so that we can keep track of the process."
   ]
  },
  {
   "cell_type": "code",
   "execution_count": 26,
   "metadata": {
    "collapsed": false
   },
   "outputs": [
    {
     "name": "stdout",
     "output_type": "stream",
     "text": [
      " int [1:5268] 1 2 3 4 5 6 7 8 9 10 ...\n"
     ]
    }
   ],
   "source": [
    "number <- seq(1,nrow(aircrash2) )\n",
    "str(number)\n"
   ]
  },
  {
   "cell_type": "code",
   "execution_count": 27,
   "metadata": {
    "collapsed": false
   },
   "outputs": [
    {
     "name": "stdout",
     "output_type": "stream",
     "text": [
      "'data.frame':\t5268 obs. of  16 variables:\n",
      " $ Month       : chr  \"09\" \"07\" \"08\" \"09\" ...\n",
      " $ Day         : chr  \"17\" \"12\" \"06\" \"09\" ...\n",
      " $ Year        : chr  \"1908\" \"1912\" \"1913\" \"1913\" ...\n",
      " $ Time        : chr  \"17:18\" \"06:30\" \"\" \"18:30\" ...\n",
      " $ Location    : chr  \"Fort Myer, Virginia\" \"AtlantiCity, New Jersey\" \"Victoria, British Columbia, Canada\" \"Over the North Sea\" ...\n",
      " $ Operator    : chr  \"Military - U.S. Army\" \"Military - U.S. Navy\" \"Private\" \"Military - German Navy\" ...\n",
      " $ Flight..    : chr  \"\" \"\" \"-\" \"\" ...\n",
      " $ Route       : chr  \"Demonstration\" \"Test flight\" \"\" \"\" ...\n",
      " $ Type        : chr  \"Wright Flyer III\" \"Dirigible\" \"Curtiss seaplane\" \"Zeppelin L-1 (airship)\" ...\n",
      " $ Registration: chr  \"\" \"\" \"\" \"\" ...\n",
      " $ cn.In       : chr  \"1\" \"\" \"\" \"\" ...\n",
      " $ Aboard      : int  2 5 1 20 30 41 19 20 22 19 ...\n",
      " $ Fatalities  : int  1 5 1 14 30 21 19 20 22 19 ...\n",
      " $ Ground      : int  0 0 0 0 0 0 0 0 0 0 ...\n",
      " $ Summary     : chr  \"During a demonstration flight, a U.S. Army flyer flown by Orville Wright nose-dived into the ground from a height of approximat\"| __truncated__ \"First U.S. dirigible Akron exploded just offshore at an altitude of 1,000 ft. during a test flight.\" \"The first fatal airplane accident in Canada occurred when American barnstormer, John M. Bryant, California aviator was killed.\" \"The airship flew into a thunderstorm and encountered a severe downdraft crashing 20 miles north of Helgoland Island into the se\"| __truncated__ ...\n",
      " $ ID          : int  1 2 3 4 5 6 7 8 9 10 ...\n"
     ]
    }
   ],
   "source": [
    "aircrash2$ID <- number\n",
    "str(aircrash2)"
   ]
  },
  {
   "cell_type": "code",
   "execution_count": 28,
   "metadata": {
    "collapsed": false
   },
   "outputs": [
    {
     "name": "stdout",
     "output_type": "stream",
     "text": [
      "'data.frame':\t4878 obs. of  16 variables:\n",
      " $ Month       : chr  \"09\" \"07\" \"08\" \"09\" ...\n",
      " $ Day         : chr  \"17\" \"12\" \"06\" \"09\" ...\n",
      " $ Year        : chr  \"1908\" \"1912\" \"1913\" \"1913\" ...\n",
      " $ Time        : chr  \"17:18\" \"06:30\" \"\" \"18:30\" ...\n",
      " $ Location    : chr  \"Fort Myer, Virginia\" \"AtlantiCity, New Jersey\" \"Victoria, British Columbia, Canada\" \"Over the North Sea\" ...\n",
      " $ Operator    : chr  \"Military - U.S. Army\" \"Military - U.S. Navy\" \"Private\" \"Military - German Navy\" ...\n",
      " $ Flight..    : chr  \"\" \"\" \"-\" \"\" ...\n",
      " $ Route       : chr  \"Demonstration\" \"Test flight\" \"\" \"\" ...\n",
      " $ Type        : chr  \"Wright Flyer III\" \"Dirigible\" \"Curtiss seaplane\" \"Zeppelin L-1 (airship)\" ...\n",
      " $ Registration: chr  \"\" \"\" \"\" \"\" ...\n",
      " $ cn.In       : chr  \"1\" \"\" \"\" \"\" ...\n",
      " $ Aboard      : int  2 5 1 20 30 41 19 20 22 19 ...\n",
      " $ Fatalities  : int  1 5 1 14 30 21 19 20 22 19 ...\n",
      " $ Ground      : int  0 0 0 0 0 0 0 0 0 0 ...\n",
      " $ Summary     : chr  \"During a demonstration flight, a U.S. Army flyer flown by Orville Wright nose-dived into the ground from a height of approximat\"| __truncated__ \"First U.S. dirigible Akron exploded just offshore at an altitude of 1,000 ft. during a test flight.\" \"The first fatal airplane accident in Canada occurred when American barnstormer, John M. Bryant, California aviator was killed.\" \"The airship flew into a thunderstorm and encountered a severe downdraft crashing 20 miles north of Helgoland Island into the se\"| __truncated__ ...\n",
      " $ ID          : int  1 2 3 4 5 6 7 8 9 10 ...\n"
     ]
    }
   ],
   "source": [
    "aircrash3 <- filter(aircrash2, Summary != '')\n",
    "str(aircrash3)"
   ]
  },
  {
   "cell_type": "markdown",
   "metadata": {},
   "source": [
    "#### I have created a new dataset aircrash3 for which there is no row without summary. I will start doing text mining on this. Let us create a unknowcluster for which there is no summary like this."
   ]
  },
  {
   "cell_type": "code",
   "execution_count": 29,
   "metadata": {
    "collapsed": true
   },
   "outputs": [],
   "source": [
    "unknowncluster <- filter(aircrash2, Summary == '')"
   ]
  },
  {
   "cell_type": "markdown",
   "metadata": {},
   "source": [
    "#### Let us run the following commands in R."
   ]
  },
  {
   "cell_type": "code",
   "execution_count": 31,
   "metadata": {
    "collapsed": false
   },
   "outputs": [
    {
     "name": "stderr",
     "output_type": "stream",
     "text": [
      "Installing package into 'C:/Users/me/Documents/R/win-library/3.3'\n",
      "(as 'lib' is unspecified)\n",
      "also installing the dependencies 'NLP', 'slam'\n",
      "\n"
     ]
    },
    {
     "name": "stdout",
     "output_type": "stream",
     "text": [
      "package 'NLP' successfully unpacked and MD5 sums checked\n"
     ]
    },
    {
     "name": "stderr",
     "output_type": "stream",
     "text": [
      "Warning message:\n",
      "\"unable to move temporary installation 'C:\\Users\\me\\Documents\\R\\win-library\\3.3\\file2e6421543f6b\\NLP' to 'C:\\Users\\me\\Documents\\R\\win-library\\3.3\\NLP'\""
     ]
    },
    {
     "name": "stdout",
     "output_type": "stream",
     "text": [
      "package 'slam' successfully unpacked and MD5 sums checked\n",
      "package 'tm' successfully unpacked and MD5 sums checked\n",
      "\n",
      "The downloaded binary packages are in\n",
      "\tC:\\Users\\me\\AppData\\Local\\Temp\\RtmpQ3KFNj\\downloaded_packages\n"
     ]
    }
   ],
   "source": [
    " install.packages('tm', repos='http://cran.us.r-project.org')"
   ]
  },
  {
   "cell_type": "code",
   "execution_count": 32,
   "metadata": {
    "collapsed": false
   },
   "outputs": [
    {
     "name": "stderr",
     "output_type": "stream",
     "text": [
      "Installing package into 'C:/Users/me/Documents/R/win-library/3.3'\n",
      "(as 'lib' is unspecified)\n"
     ]
    },
    {
     "name": "stdout",
     "output_type": "stream",
     "text": [
      "package 'SnowballC' successfully unpacked and MD5 sums checked\n",
      "\n",
      "The downloaded binary packages are in\n",
      "\tC:\\Users\\me\\AppData\\Local\\Temp\\RtmpQ3KFNj\\downloaded_packages\n"
     ]
    }
   ],
   "source": [
    "install.packages('SnowballC', repos='http://cran.us.r-project.org')"
   ]
  },
  {
   "cell_type": "code",
   "execution_count": 34,
   "metadata": {
    "collapsed": false
   },
   "outputs": [
    {
     "name": "stderr",
     "output_type": "stream",
     "text": [
      "Installing package into 'C:/Users/me/Documents/R/win-library/3.3'\n",
      "(as 'lib' is unspecified)\n"
     ]
    },
    {
     "name": "stdout",
     "output_type": "stream",
     "text": [
      "package 'NLP' successfully unpacked and MD5 sums checked\n",
      "\n",
      "The downloaded binary packages are in\n",
      "\tC:\\Users\\me\\AppData\\Local\\Temp\\RtmpQ3KFNj\\downloaded_packages\n"
     ]
    }
   ],
   "source": [
    "install.packages('NLP', repos='http://cran.us.r-project.org')"
   ]
  },
  {
   "cell_type": "code",
   "execution_count": 35,
   "metadata": {
    "collapsed": false
   },
   "outputs": [
    {
     "name": "stderr",
     "output_type": "stream",
     "text": [
      "Warning message:\n",
      "\"package 'tm' was built under R version 3.3.2\"Loading required package: NLP\n",
      "Warning message:\n",
      "\"package 'NLP' was built under R version 3.3.2\"\n",
      "Attaching package: 'NLP'\n",
      "\n",
      "The following object is masked from 'package:ggplot2':\n",
      "\n",
      "    annotate\n",
      "\n",
      "Warning message:\n",
      "\"package 'SnowballC' was built under R version 3.3.2\""
     ]
    }
   ],
   "source": [
    "library(tm)\n",
    "library(SnowballC)\n"
   ]
  },
  {
   "cell_type": "code",
   "execution_count": 36,
   "metadata": {
    "collapsed": true
   },
   "outputs": [],
   "source": [
    "corpus = Corpus(VectorSource(aircrash3$Summary))"
   ]
  },
  {
   "cell_type": "code",
   "execution_count": 37,
   "metadata": {
    "collapsed": false
   },
   "outputs": [
    {
     "data": {
      "text/plain": [
       "<<VCorpus>>\n",
       "Metadata:  corpus specific: 0, document level (indexed): 0\n",
       "Content:  documents: 4878"
      ]
     },
     "metadata": {},
     "output_type": "display_data"
    }
   ],
   "source": [
    "corpus"
   ]
  },
  {
   "cell_type": "code",
   "execution_count": 38,
   "metadata": {
    "collapsed": true
   },
   "outputs": [],
   "source": [
    "corpus = tm_map(corpus, content_transformer(tolower))\n",
    "corpus = tm_map(corpus, removePunctuation)\n",
    "corpus = tm_map(corpus, removeNumbers)\n",
    "newstopwords = c(stopwords('english'), 'aircrash','plane','aircraft','crash','flight')\n",
    "corpus = tm_map(corpus, removeWords, newstopwords)\n",
    "corpus = tm_map(corpus, stripWhitespace)\n",
    "corpus = tm_map(corpus, stemDocument, language = 'english')\n",
    "corpus = tm_map(corpus, removeWords, 'crash')\n",
    "dtm = DocumentTermMatrix(corpus)\n",
    "freqterms <- findFreqTerms(dtm, lowfreq = 200)"
   ]
  },
  {
   "cell_type": "code",
   "execution_count": 39,
   "metadata": {
    "collapsed": false
   },
   "outputs": [
    {
     "data": {
      "text/html": [
       "<ol class=list-inline>\n",
       "\t<li>\"accid\"</li>\n",
       "\t<li>\"air\"</li>\n",
       "\t<li>\"airport\"</li>\n",
       "\t<li>\"altitud\"</li>\n",
       "\t<li>\"approach\"</li>\n",
       "\t<li>\"area\"</li>\n",
       "\t<li>\"attempt\"</li>\n",
       "\t<li>\"captain\"</li>\n",
       "\t<li>\"cargo\"</li>\n",
       "\t<li>\"caus\"</li>\n",
       "\t<li>\"condit\"</li>\n",
       "\t<li>\"continu\"</li>\n",
       "\t<li>\"control\"</li>\n",
       "\t<li>\"crew\"</li>\n",
       "\t<li>\"descend\"</li>\n",
       "\t<li>\"descent\"</li>\n",
       "\t<li>\"due\"</li>\n",
       "\t<li>\"emerg\"</li>\n",
       "\t<li>\"engin\"</li>\n",
       "\t<li>\"error\"</li>\n",
       "\t<li>\"fail\"</li>\n",
       "\t<li>\"failur\"</li>\n",
       "\t<li>\"feet\"</li>\n",
       "\t<li>\"fire\"</li>\n",
       "\t<li>\"fli\"</li>\n",
       "\t<li>\"fog\"</li>\n",
       "\t<li>\"follow\"</li>\n",
       "\t<li>\"fuel\"</li>\n",
       "\t<li>\"ground\"</li>\n",
       "\t<li>\"heavi\"</li>\n",
       "\t<li>\"helicopt\"</li>\n",
       "\t<li>\"high\"</li>\n",
       "\t<li>\"hit\"</li>\n",
       "\t<li>\"improp\"</li>\n",
       "\t<li>\"instrument\"</li>\n",
       "\t<li>\"kill\"</li>\n",
       "\t<li>\"land\"</li>\n",
       "\t<li>\"left\"</li>\n",
       "\t<li>\"loss\"</li>\n",
       "\t<li>\"lost\"</li>\n",
       "\t<li>\"low\"</li>\n",
       "\t<li>\"maintain\"</li>\n",
       "\t<li>\"make\"</li>\n",
       "\t<li>\"mile\"</li>\n",
       "\t<li>\"minut\"</li>\n",
       "\t<li>\"mountain\"</li>\n",
       "\t<li>\"one\"</li>\n",
       "\t<li>\"passeng\"</li>\n",
       "\t<li>\"pilot\"</li>\n",
       "\t<li>\"poor\"</li>\n",
       "\t<li>\"power\"</li>\n",
       "\t<li>\"procedur\"</li>\n",
       "\t<li>\"rain\"</li>\n",
       "\t<li>\"result\"</li>\n",
       "\t<li>\"right\"</li>\n",
       "\t<li>\"rout\"</li>\n",
       "\t<li>\"runway\"</li>\n",
       "\t<li>\"sea\"</li>\n",
       "\t<li>\"sever\"</li>\n",
       "\t<li>\"short\"</li>\n",
       "\t<li>\"stall\"</li>\n",
       "\t<li>\"struck\"</li>\n",
       "\t<li>\"take\"</li>\n",
       "\t<li>\"takeoff\"</li>\n",
       "\t<li>\"terrain\"</li>\n",
       "\t<li>\"tree\"</li>\n",
       "\t<li>\"turn\"</li>\n",
       "\t<li>\"two\"</li>\n",
       "\t<li>\"vfr\"</li>\n",
       "\t<li>\"weather\"</li>\n",
       "\t<li>\"wing\"</li>\n",
       "</ol>\n"
      ],
      "text/latex": [
       "\\begin{enumerate*}\n",
       "\\item \"accid\"\n",
       "\\item \"air\"\n",
       "\\item \"airport\"\n",
       "\\item \"altitud\"\n",
       "\\item \"approach\"\n",
       "\\item \"area\"\n",
       "\\item \"attempt\"\n",
       "\\item \"captain\"\n",
       "\\item \"cargo\"\n",
       "\\item \"caus\"\n",
       "\\item \"condit\"\n",
       "\\item \"continu\"\n",
       "\\item \"control\"\n",
       "\\item \"crew\"\n",
       "\\item \"descend\"\n",
       "\\item \"descent\"\n",
       "\\item \"due\"\n",
       "\\item \"emerg\"\n",
       "\\item \"engin\"\n",
       "\\item \"error\"\n",
       "\\item \"fail\"\n",
       "\\item \"failur\"\n",
       "\\item \"feet\"\n",
       "\\item \"fire\"\n",
       "\\item \"fli\"\n",
       "\\item \"fog\"\n",
       "\\item \"follow\"\n",
       "\\item \"fuel\"\n",
       "\\item \"ground\"\n",
       "\\item \"heavi\"\n",
       "\\item \"helicopt\"\n",
       "\\item \"high\"\n",
       "\\item \"hit\"\n",
       "\\item \"improp\"\n",
       "\\item \"instrument\"\n",
       "\\item \"kill\"\n",
       "\\item \"land\"\n",
       "\\item \"left\"\n",
       "\\item \"loss\"\n",
       "\\item \"lost\"\n",
       "\\item \"low\"\n",
       "\\item \"maintain\"\n",
       "\\item \"make\"\n",
       "\\item \"mile\"\n",
       "\\item \"minut\"\n",
       "\\item \"mountain\"\n",
       "\\item \"one\"\n",
       "\\item \"passeng\"\n",
       "\\item \"pilot\"\n",
       "\\item \"poor\"\n",
       "\\item \"power\"\n",
       "\\item \"procedur\"\n",
       "\\item \"rain\"\n",
       "\\item \"result\"\n",
       "\\item \"right\"\n",
       "\\item \"rout\"\n",
       "\\item \"runway\"\n",
       "\\item \"sea\"\n",
       "\\item \"sever\"\n",
       "\\item \"short\"\n",
       "\\item \"stall\"\n",
       "\\item \"struck\"\n",
       "\\item \"take\"\n",
       "\\item \"takeoff\"\n",
       "\\item \"terrain\"\n",
       "\\item \"tree\"\n",
       "\\item \"turn\"\n",
       "\\item \"two\"\n",
       "\\item \"vfr\"\n",
       "\\item \"weather\"\n",
       "\\item \"wing\"\n",
       "\\end{enumerate*}\n"
      ],
      "text/markdown": [
       "1. \"accid\"\n",
       "2. \"air\"\n",
       "3. \"airport\"\n",
       "4. \"altitud\"\n",
       "5. \"approach\"\n",
       "6. \"area\"\n",
       "7. \"attempt\"\n",
       "8. \"captain\"\n",
       "9. \"cargo\"\n",
       "10. \"caus\"\n",
       "11. \"condit\"\n",
       "12. \"continu\"\n",
       "13. \"control\"\n",
       "14. \"crew\"\n",
       "15. \"descend\"\n",
       "16. \"descent\"\n",
       "17. \"due\"\n",
       "18. \"emerg\"\n",
       "19. \"engin\"\n",
       "20. \"error\"\n",
       "21. \"fail\"\n",
       "22. \"failur\"\n",
       "23. \"feet\"\n",
       "24. \"fire\"\n",
       "25. \"fli\"\n",
       "26. \"fog\"\n",
       "27. \"follow\"\n",
       "28. \"fuel\"\n",
       "29. \"ground\"\n",
       "30. \"heavi\"\n",
       "31. \"helicopt\"\n",
       "32. \"high\"\n",
       "33. \"hit\"\n",
       "34. \"improp\"\n",
       "35. \"instrument\"\n",
       "36. \"kill\"\n",
       "37. \"land\"\n",
       "38. \"left\"\n",
       "39. \"loss\"\n",
       "40. \"lost\"\n",
       "41. \"low\"\n",
       "42. \"maintain\"\n",
       "43. \"make\"\n",
       "44. \"mile\"\n",
       "45. \"minut\"\n",
       "46. \"mountain\"\n",
       "47. \"one\"\n",
       "48. \"passeng\"\n",
       "49. \"pilot\"\n",
       "50. \"poor\"\n",
       "51. \"power\"\n",
       "52. \"procedur\"\n",
       "53. \"rain\"\n",
       "54. \"result\"\n",
       "55. \"right\"\n",
       "56. \"rout\"\n",
       "57. \"runway\"\n",
       "58. \"sea\"\n",
       "59. \"sever\"\n",
       "60. \"short\"\n",
       "61. \"stall\"\n",
       "62. \"struck\"\n",
       "63. \"take\"\n",
       "64. \"takeoff\"\n",
       "65. \"terrain\"\n",
       "66. \"tree\"\n",
       "67. \"turn\"\n",
       "68. \"two\"\n",
       "69. \"vfr\"\n",
       "70. \"weather\"\n",
       "71. \"wing\"\n",
       "\n",
       "\n"
      ],
      "text/plain": [
       " [1] \"accid\"      \"air\"        \"airport\"    \"altitud\"    \"approach\"  \n",
       " [6] \"area\"       \"attempt\"    \"captain\"    \"cargo\"      \"caus\"      \n",
       "[11] \"condit\"     \"continu\"    \"control\"    \"crew\"       \"descend\"   \n",
       "[16] \"descent\"    \"due\"        \"emerg\"      \"engin\"      \"error\"     \n",
       "[21] \"fail\"       \"failur\"     \"feet\"       \"fire\"       \"fli\"       \n",
       "[26] \"fog\"        \"follow\"     \"fuel\"       \"ground\"     \"heavi\"     \n",
       "[31] \"helicopt\"   \"high\"       \"hit\"        \"improp\"     \"instrument\"\n",
       "[36] \"kill\"       \"land\"       \"left\"       \"loss\"       \"lost\"      \n",
       "[41] \"low\"        \"maintain\"   \"make\"       \"mile\"       \"minut\"     \n",
       "[46] \"mountain\"   \"one\"        \"passeng\"    \"pilot\"      \"poor\"      \n",
       "[51] \"power\"      \"procedur\"   \"rain\"       \"result\"     \"right\"     \n",
       "[56] \"rout\"       \"runway\"     \"sea\"        \"sever\"      \"short\"     \n",
       "[61] \"stall\"      \"struck\"     \"take\"       \"takeoff\"    \"terrain\"   \n",
       "[66] \"tree\"       \"turn\"       \"two\"        \"vfr\"        \"weather\"   \n",
       "[71] \"wing\"      "
      ]
     },
     "metadata": {},
     "output_type": "display_data"
    }
   ],
   "source": [
    "freqterms"
   ]
  },
  {
   "cell_type": "markdown",
   "metadata": {},
   "source": [
    "### Some of the words which may give us some clue for further analysis may be ‘fire’, ‘fog’,’fuel’,’instrument’, ‘rain’, ‘weather’. Since rain , fog, snow or weather could be related to bad weather condition, unambiguously we can select rows having these words in their summary as a single cluster.  From the data, it seems there could be very few exceptions in this case. Hence, I am running this R code to take out the rows having weather related word to keep it as a part of weather cluster."
   ]
  },
  {
   "cell_type": "markdown",
   "metadata": {},
   "source": [
    "#### The R code is here."
   ]
  },
  {
   "cell_type": "code",
   "execution_count": 42,
   "metadata": {
    "collapsed": false
   },
   "outputs": [],
   "source": [
    "weathercluster <- filter(aircrash3, grepl('fog|rain|weather|snow', Summary))\n",
    "\n",
    "#We will do the text mining on the rest of the data again like mentioned below.\n",
    "\n",
    "aircrash3rest <- filter(aircrash3, !grepl('fog|rain|weather|snow', Summary))\n",
    " corpus = Corpus(VectorSource(aircrash3rest$Summary))\n",
    " corpus = tm_map(corpus, content_transformer(tolower))\n",
    " corpus = tm_map(corpus, removePunctuation)\n",
    " corpus = tm_map(corpus, removeNumbers)\n",
    " newstopwords = c(stopwords('english'), 'aircrash','plane','aircraft','crash','flight')\n",
    " corpus = tm_map(corpus, removeWords, newstopwords)\n",
    " corpus = tm_map(corpus, stripWhitespace)\n",
    " corpus = tm_map(corpus, stemDocument, language = 'english')\n",
    " corpus = tm_map(corpus, removeWords, 'crash')\n",
    " termfreq <- colSums(as.matrix(dtm))\n",
    " "
   ]
  },
  {
   "cell_type": "code",
   "execution_count": 45,
   "metadata": {
    "collapsed": false
   },
   "outputs": [
    {
     "data": {},
     "metadata": {},
     "output_type": "display_data"
    },
    {
     "data": {
      "image/png": "[encoded data removed]",
      "text/plain": [
       "plot without title"
      ]
     },
     "metadata": {},
     "output_type": "display_data"
    }
   ],
   "source": [
    "termfreq <- subset(termfreq, termfreq >= 200)\n",
    " df <- data.frame(term = names(termfreq), freq = termfreq)\n",
    " ggplot(df, aes(x = term, y = freq)) + geom_bar(stat = \"identity\") + xlab(\"Terms\") + ylab(\"Count\") + coord_flip()\n"
   ]
  },
  {
   "cell_type": "code",
   "execution_count": 47,
   "metadata": {
    "collapsed": false
   },
   "outputs": [
    {
     "name": "stderr",
     "output_type": "stream",
     "text": [
      "Installing package into 'C:/Users/me/Documents/R/win-library/3.3'\n",
      "(as 'lib' is unspecified)\n"
     ]
    },
    {
     "name": "stdout",
     "output_type": "stream",
     "text": [
      "package 'wordcloud' successfully unpacked and MD5 sums checked\n",
      "\n",
      "The downloaded binary packages are in\n",
      "\tC:\\Users\\me\\AppData\\Local\\Temp\\RtmpQ3KFNj\\downloaded_packages\n"
     ]
    },
    {
     "name": "stderr",
     "output_type": "stream",
     "text": [
      "Warning message:\n",
      "\"package 'wordcloud' was built under R version 3.3.2\"Loading required package: RColorBrewer\n",
      "Warning message:\n",
      "\"package 'RColorBrewer' was built under R version 3.3.2\""
     ]
    }
   ],
   "source": [
    "install.packages('wordcloud', repos='http://cran.us.r-project.org')\n",
    "library('wordcloud')"
   ]
  },
  {
   "cell_type": "code",
   "execution_count": 48,
   "metadata": {
    "collapsed": false
   },
   "outputs": [
    {
     "data": {
      "image/png": "[encoded data removed]",
      "text/plain": [
       "plot without title"
      ]
     },
     "metadata": {},
     "output_type": "display_data"
    }
   ],
   "source": [
    "m = as.matrix(dtm)\n",
    "word.freq <- sort(colSums(m))\n",
    " wordcloud(words = names(word.freq), freq = word.freq, min.freq = 30,random.order = F)\n",
    "\n"
   ]
  },
  {
   "cell_type": "markdown",
   "metadata": {},
   "source": [
    "### From the wordcloud also it seems pilot, engine, runway , approach, takeoff, control, cargo, mountain, fire, fuel,  could be having some relationship with the crashes since they are frequently used. "
   ]
  },
  {
   "cell_type": "code",
   "execution_count": 49,
   "metadata": {
    "collapsed": false
   },
   "outputs": [
    {
     "data": {
      "image/png": "[encoded data removed]",
      "text/plain": [
       "Plot with title \"Cluster Dendrogram\""
      ]
     },
     "metadata": {},
     "output_type": "display_data"
    }
   ],
   "source": [
    "sparse = removeSparseTerms(dtm, 0.95)\n",
    " m2 <- as.matrix(sparse)\n",
    " distMatrix <- dist(scale(m2))\n",
    " fit <- hclust(distMatrix, method = \"ward.D\")\n",
    " plot(fit)\n",
    " rect.hclust(fit, k = 4)\n"
   ]
  },
  {
   "cell_type": "markdown",
   "metadata": {},
   "source": [
    "### The dendogram does not give a clear picture now. Let us move ahead with Kmeans clustering."
   ]
  },
  {
   "cell_type": "code",
   "execution_count": 74,
   "metadata": {
    "collapsed": false
   },
   "outputs": [
    {
     "name": "stdout",
     "output_type": "stream",
     "text": [
      "cluster 1: fire wing emerg hit right \n",
      "cluster 2: pilot error accid terrain descend \n",
      "cluster 3: rout lost fli terrain low \n",
      "cluster 4: fog hit mountain error kill \n"
     ]
    }
   ],
   "source": [
    "set.seed(12345)\n",
    "k <- 4\n",
    "KMC <- kmeans(m2, k)\n",
    " for (i in 1:k) {\n",
    " cat(paste(\"cluster \", i, \": \", sep = \"\"))\n",
    " s <- sort(KMC$centers[i, ])\n",
    " cat(names(s)[1:5], \"\\n\")\n",
    " }\n"
   ]
  },
  {
   "cell_type": "markdown",
   "metadata": {},
   "source": [
    "### Nothing can be understood from these words. Hence we will have to analyze few texts to create or understand the context for cluster.  Now let us create 4 clusters based on the above mentioned clustering approach."
   ]
  },
  {
   "cell_type": "code",
   "execution_count": 75,
   "metadata": {
    "collapsed": true
   },
   "outputs": [],
   "source": [
    "cluster1 = aircrash3rest[which(KMC$cluster == 1),]\n",
    "cluster2 = aircrash3rest[which(KMC$cluster == 2),]\n",
    "cluster3 = aircrash3rest[which(KMC$cluster == 3),]\n",
    "cluster4 = aircrash3rest[which(KMC$cluster == 4),]\n",
    "\n"
   ]
  },
  {
   "cell_type": "code",
   "execution_count": 68,
   "metadata": {
    "collapsed": false
   },
   "outputs": [
    {
     "data": {
      "text/html": [
       "829"
      ],
      "text/latex": [
       "829"
      ],
      "text/markdown": [
       "829"
      ],
      "text/plain": [
       "[1] 829"
      ]
     },
     "metadata": {},
     "output_type": "display_data"
    }
   ],
   "source": [
    "nrow(cluster1)"
   ]
  },
  {
   "cell_type": "code",
   "execution_count": 69,
   "metadata": {
    "collapsed": false
   },
   "outputs": [
    {
     "data": {
      "text/html": [
       "<ol class=list-inline>\n",
       "\t<li>\"Caught fire in midair. The pilot leaped from the plane to his death as the plane began to go into a dive.\"</li>\n",
       "\t<li>\"Engine failure.\"</li>\n",
       "\t<li>\"The plane crashed into the Waalhaven harbor.\"</li>\n",
       "\t<li>\"Engine failure.\"</li>\n",
       "\t<li>\"Crashed onto a roof and garage on takeoff and burst into flames. The motor may have not been warmed- up enough.\"</li>\n",
       "\t<li>\"The aircraft crashed into lake Constance while attempting to landing.\"</li>\n",
       "</ol>\n"
      ],
      "text/latex": [
       "\\begin{enumerate*}\n",
       "\\item \"Caught fire in midair. The pilot leaped from the plane to his death as the plane began to go into a dive.\"\n",
       "\\item \"Engine failure.\"\n",
       "\\item \"The plane crashed into the Waalhaven harbor.\"\n",
       "\\item \"Engine failure.\"\n",
       "\\item \"Crashed onto a roof and garage on takeoff and burst into flames. The motor may have not been warmed- up enough.\"\n",
       "\\item \"The aircraft crashed into lake Constance while attempting to landing.\"\n",
       "\\end{enumerate*}\n"
      ],
      "text/markdown": [
       "1. \"Caught fire in midair. The pilot leaped from the plane to his death as the plane began to go into a dive.\"\n",
       "2. \"Engine failure.\"\n",
       "3. \"The plane crashed into the Waalhaven harbor.\"\n",
       "4. \"Engine failure.\"\n",
       "5. \"Crashed onto a roof and garage on takeoff and burst into flames. The motor may have not been warmed- up enough.\"\n",
       "6. \"The aircraft crashed into lake Constance while attempting to landing.\"\n",
       "\n",
       "\n"
      ],
      "text/plain": [
       "[1] \"Caught fire in midair. The pilot leaped from the plane to his death as the plane began to go into a dive.\"      \n",
       "[2] \"Engine failure.\"                                                                                                \n",
       "[3] \"The plane crashed into the Waalhaven harbor.\"                                                                   \n",
       "[4] \"Engine failure.\"                                                                                                \n",
       "[5] \"Crashed onto a roof and garage on takeoff and burst into flames. The motor may have not been warmed- up enough.\"\n",
       "[6] \"The aircraft crashed into lake Constance while attempting to landing.\"                                          "
      ]
     },
     "metadata": {},
     "output_type": "display_data"
    }
   ],
   "source": [
    "head(cluster1$Summary)"
   ]
  },
  {
   "cell_type": "code",
   "execution_count": 70,
   "metadata": {
    "collapsed": false
   },
   "outputs": [
    {
     "data": {
      "text/html": [
       "224"
      ],
      "text/latex": [
       "224"
      ],
      "text/markdown": [
       "224"
      ],
      "text/plain": [
       "[1] 224"
      ]
     },
     "metadata": {},
     "output_type": "display_data"
    }
   ],
   "source": [
    "nrow(cluster2)"
   ]
  },
  {
   "cell_type": "code",
   "execution_count": 71,
   "metadata": {
    "collapsed": false
   },
   "outputs": [
    {
     "data": {
      "text/html": [
       "<ol class=list-inline>\n",
       "\t<li>\"Went into a tailspin and crashed into a corn field\"</li>\n",
       "\t<li>\"The mail plane crashed into Mt. Lamentation and burst into flames.\"</li>\n",
       "\t<li>\"Crashed on take off due to engine failure.\"</li>\n",
       "\t<li>\"Crashed during takeoff.\"</li>\n",
       "\t<li>\"The cargo plane struck a mountain while attempting a go-around.\"</li>\n",
       "\t<li>\"The cargo plane flew into a mountain\"</li>\n",
       "</ol>\n"
      ],
      "text/latex": [
       "\\begin{enumerate*}\n",
       "\\item \"Went into a tailspin and crashed into a corn field\"\n",
       "\\item \"The mail plane crashed into Mt. Lamentation and burst into flames.\"\n",
       "\\item \"Crashed on take off due to engine failure.\"\n",
       "\\item \"Crashed during takeoff.\"\n",
       "\\item \"The cargo plane struck a mountain while attempting a go-around.\"\n",
       "\\item \"The cargo plane flew into a mountain\"\n",
       "\\end{enumerate*}\n"
      ],
      "text/markdown": [
       "1. \"Went into a tailspin and crashed into a corn field\"\n",
       "2. \"The mail plane crashed into Mt. Lamentation and burst into flames.\"\n",
       "3. \"Crashed on take off due to engine failure.\"\n",
       "4. \"Crashed during takeoff.\"\n",
       "5. \"The cargo plane struck a mountain while attempting a go-around.\"\n",
       "6. \"The cargo plane flew into a mountain\"\n",
       "\n",
       "\n"
      ],
      "text/plain": [
       "[1] \"Went into a tailspin and crashed into a corn field\"                \n",
       "[2] \"The mail plane crashed into Mt. Lamentation and burst into flames.\"\n",
       "[3] \"Crashed on take off due to engine failure.\"                        \n",
       "[4] \"Crashed during takeoff.\"                                           \n",
       "[5] \"The cargo plane struck a mountain while attempting a go-around.\"   \n",
       "[6] \"The cargo plane flew into a mountain\"                              "
      ]
     },
     "metadata": {},
     "output_type": "display_data"
    }
   ],
   "source": [
    "head(cluster2$Summary)"
   ]
  },
  {
   "cell_type": "code",
   "execution_count": 72,
   "metadata": {
    "collapsed": false
   },
   "outputs": [
    {
     "data": {
      "text/html": [
       "3303"
      ],
      "text/latex": [
       "3303"
      ],
      "text/markdown": [
       "3303"
      ],
      "text/plain": [
       "[1] 3303"
      ]
     },
     "metadata": {},
     "output_type": "display_data"
    }
   ],
   "source": [
    "nrow(cluster3)"
   ]
  },
  {
   "cell_type": "code",
   "execution_count": 73,
   "metadata": {
    "collapsed": false
   },
   "outputs": [
    {
     "data": {
      "text/html": [
       "<ol class=list-inline>\n",
       "\t<li>\"During a demonstration flight, a U.S. Army flyer flown by Orville Wright nose-dived into the ground from a height of approximately 75 feet, killing Lt. Thomas E. Selfridge who was a passenger. This was the first recorded airplane fatality in history.  One of two propellers separated in flight, tearing loose the wires bracing the rudder and causing the loss of control of the aircraft.  Orville Wright suffered broken ribs, pelvis and a leg.  Selfridge suffered a crushed skull and died a short time later.\"</li>\n",
       "\t<li>\"First U.S. dirigible Akron exploded just offshore at an altitude of 1,000 ft. during a test flight.\"</li>\n",
       "\t<li>\"The first fatal airplane accident in Canada occurred when American barnstormer, John M. Bryant, California aviator was killed.\"</li>\n",
       "\t<li>\"The airship flew into a thunderstorm and encountered a severe downdraft crashing 20 miles north of Helgoland Island into the sea. The ship broke in two and the control car immediately sank drowning its occupants.\"</li>\n",
       "\t<li>\"Hydrogen gas which was being vented was sucked into the forward engine and ignited causing the airship to explode and burn at 3,000 ft..\"</li>\n",
       "\t<li>\"Crashed into trees while attempting to land after being shot down by British and French aircraft.\"</li>\n",
       "</ol>\n"
      ],
      "text/latex": [
       "\\begin{enumerate*}\n",
       "\\item \"During a demonstration flight, a U.S. Army flyer flown by Orville Wright nose-dived into the ground from a height of approximately 75 feet, killing Lt. Thomas E. Selfridge who was a passenger. This was the first recorded airplane fatality in history.  One of two propellers separated in flight, tearing loose the wires bracing the rudder and causing the loss of control of the aircraft.  Orville Wright suffered broken ribs, pelvis and a leg.  Selfridge suffered a crushed skull and died a short time later.\"\n",
       "\\item \"First U.S. dirigible Akron exploded just offshore at an altitude of 1,000 ft. during a test flight.\"\n",
       "\\item \"The first fatal airplane accident in Canada occurred when American barnstormer, John M. Bryant, California aviator was killed.\"\n",
       "\\item \"The airship flew into a thunderstorm and encountered a severe downdraft crashing 20 miles north of Helgoland Island into the sea. The ship broke in two and the control car immediately sank drowning its occupants.\"\n",
       "\\item \"Hydrogen gas which was being vented was sucked into the forward engine and ignited causing the airship to explode and burn at 3,000 ft..\"\n",
       "\\item \"Crashed into trees while attempting to land after being shot down by British and French aircraft.\"\n",
       "\\end{enumerate*}\n"
      ],
      "text/markdown": [
       "1. \"During a demonstration flight, a U.S. Army flyer flown by Orville Wright nose-dived into the ground from a height of approximately 75 feet, killing Lt. Thomas E. Selfridge who was a passenger. This was the first recorded airplane fatality in history.  One of two propellers separated in flight, tearing loose the wires bracing the rudder and causing the loss of control of the aircraft.  Orville Wright suffered broken ribs, pelvis and a leg.  Selfridge suffered a crushed skull and died a short time later.\"\n",
       "2. \"First U.S. dirigible Akron exploded just offshore at an altitude of 1,000 ft. during a test flight.\"\n",
       "3. \"The first fatal airplane accident in Canada occurred when American barnstormer, John M. Bryant, California aviator was killed.\"\n",
       "4. \"The airship flew into a thunderstorm and encountered a severe downdraft crashing 20 miles north of Helgoland Island into the sea. The ship broke in two and the control car immediately sank drowning its occupants.\"\n",
       "5. \"Hydrogen gas which was being vented was sucked into the forward engine and ignited causing the airship to explode and burn at 3,000 ft..\"\n",
       "6. \"Crashed into trees while attempting to land after being shot down by British and French aircraft.\"\n",
       "\n",
       "\n"
      ],
      "text/plain": [
       "[1] \"During a demonstration flight, a U.S. Army flyer flown by Orville Wright nose-dived into the ground from a height of approximately 75 feet, killing Lt. Thomas E. Selfridge who was a passenger. This was the first recorded airplane fatality in history.  One of two propellers separated in flight, tearing loose the wires bracing the rudder and causing the loss of control of the aircraft.  Orville Wright suffered broken ribs, pelvis and a leg.  Selfridge suffered a crushed skull and died a short time later.\"\n",
       "[2] \"First U.S. dirigible Akron exploded just offshore at an altitude of 1,000 ft. during a test flight.\"                                                                                                                                                                                                                                                                                                                                                                                                                        \n",
       "[3] \"The first fatal airplane accident in Canada occurred when American barnstormer, John M. Bryant, California aviator was killed.\"                                                                                                                                                                                                                                                                                                                                                                                             \n",
       "[4] \"The airship flew into a thunderstorm and encountered a severe downdraft crashing 20 miles north of Helgoland Island into the sea. The ship broke in two and the control car immediately sank drowning its occupants.\"                                                                                                                                                                                                                                                                                                       \n",
       "[5] \"Hydrogen gas which was being vented was sucked into the forward engine and ignited causing the airship to explode and burn at 3,000 ft..\"                                                                                                                                                                                                                                                                                                                                                                                   \n",
       "[6] \"Crashed into trees while attempting to land after being shot down by British and French aircraft.\"                                                                                                                                                                                                                                                                                                                                                                                                                          "
      ]
     },
     "metadata": {},
     "output_type": "display_data"
    }
   ],
   "source": [
    "head(cluster3$Summary)"
   ]
  },
  {
   "cell_type": "code",
   "execution_count": 63,
   "metadata": {
    "collapsed": false
   },
   "outputs": [
    {
     "data": {
      "text/html": [
       "224"
      ],
      "text/latex": [
       "224"
      ],
      "text/markdown": [
       "224"
      ],
      "text/plain": [
       "[1] 224"
      ]
     },
     "metadata": {},
     "output_type": "display_data"
    }
   ],
   "source": [
    "nrow(cluster4)"
   ]
  },
  {
   "cell_type": "code",
   "execution_count": 64,
   "metadata": {
    "collapsed": false
   },
   "outputs": [
    {
     "data": {
      "text/html": [
       "<ol class=list-inline>\n",
       "\t<li>\"Went into a tailspin and crashed into a corn field\"</li>\n",
       "\t<li>\"The mail plane crashed into Mt. Lamentation and burst into flames.\"</li>\n",
       "\t<li>\"Crashed on take off due to engine failure.\"</li>\n",
       "\t<li>\"Crashed during takeoff.\"</li>\n",
       "\t<li>\"The cargo plane struck a mountain while attempting a go-around.\"</li>\n",
       "\t<li>\"The cargo plane flew into a mountain\"</li>\n",
       "</ol>\n"
      ],
      "text/latex": [
       "\\begin{enumerate*}\n",
       "\\item \"Went into a tailspin and crashed into a corn field\"\n",
       "\\item \"The mail plane crashed into Mt. Lamentation and burst into flames.\"\n",
       "\\item \"Crashed on take off due to engine failure.\"\n",
       "\\item \"Crashed during takeoff.\"\n",
       "\\item \"The cargo plane struck a mountain while attempting a go-around.\"\n",
       "\\item \"The cargo plane flew into a mountain\"\n",
       "\\end{enumerate*}\n"
      ],
      "text/markdown": [
       "1. \"Went into a tailspin and crashed into a corn field\"\n",
       "2. \"The mail plane crashed into Mt. Lamentation and burst into flames.\"\n",
       "3. \"Crashed on take off due to engine failure.\"\n",
       "4. \"Crashed during takeoff.\"\n",
       "5. \"The cargo plane struck a mountain while attempting a go-around.\"\n",
       "6. \"The cargo plane flew into a mountain\"\n",
       "\n",
       "\n"
      ],
      "text/plain": [
       "[1] \"Went into a tailspin and crashed into a corn field\"                \n",
       "[2] \"The mail plane crashed into Mt. Lamentation and burst into flames.\"\n",
       "[3] \"Crashed on take off due to engine failure.\"                        \n",
       "[4] \"Crashed during takeoff.\"                                           \n",
       "[5] \"The cargo plane struck a mountain while attempting a go-around.\"   \n",
       "[6] \"The cargo plane flew into a mountain\"                              "
      ]
     },
     "metadata": {},
     "output_type": "display_data"
    }
   ],
   "source": [
    "head(cluster4$Summary)"
   ]
  },
  {
   "cell_type": "markdown",
   "metadata": {},
   "source": [
    "### We can do further analysis. We can go for more than one word combination(bigram , trigram etc) to get better results.  "
   ]
  },
  {
   "cell_type": "markdown",
   "metadata": {},
   "source": [
    "### We can name the clusters and look at the distributions."
   ]
  },
  {
   "cell_type": "code",
   "execution_count": null,
   "metadata": {
    "collapsed": true
   },
   "outputs": [],
   "source": []
  }
 ],
 "metadata": {
  "anaconda-cloud": {},
  "kernelspec": {
   "display_name": "R",
   "language": "R",
   "name": "ir"
  },
  "language_info": {
   "codemirror_mode": "r",
   "file_extension": ".r",
   "mimetype": "text/x-r-source",
   "name": "R",
   "pygments_lexer": "r",
   "version": "3.3.1"
  }
 },
 "nbformat": 4,
 "nbformat_minor": 1
}
